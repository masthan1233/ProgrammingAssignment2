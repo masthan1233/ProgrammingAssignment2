{
  "nbformat": 4,
  "nbformat_minor": 0,
  "metadata": {
    "colab": {
      "name": "Untitled1.ipynb",
      "provenance": [],
      "authorship_tag": "ABX9TyPcDedolwFkn62AFr2Laa9c",
      "include_colab_link": true
    },
    "kernelspec": {
      "name": "python3",
      "display_name": "Python 3"
    }
  },
  "cells": [
    {
      "cell_type": "markdown",
      "metadata": {
        "id": "view-in-github",
        "colab_type": "text"
      },
      "source": [
        "<a href=\"https://colab.research.google.com/github/masthan1233/ProgrammingAssignment2/blob/master/image%20clustering.ipynb\" target=\"_parent\"><img src=\"https://colab.research.google.com/assets/colab-badge.svg\" alt=\"Open In Colab\"/></a>"
      ]
    },
    {
      "cell_type": "code",
      "metadata": {
        "id": "_MUdqrhsMkK-"
      },
      "source": [
        "# This Program is Written by Masthan Reddy\n",
        "import numpy as np\n",
        "import cv2 as cv"
      ],
      "execution_count": 1,
      "outputs": []
    },
    {
      "cell_type": "code",
      "metadata": {
        "id": "sAzSmhdJMu-m"
      },
      "source": [
        "def K_Means(Image, K):\n",
        "    \n",
        "    if(len(Image.shape)<3):\n",
        "      Z = Image.reshape((-1,1))\n",
        "    elif len(Image.shape)==3:\n",
        "      Z = Image.reshape((-1,3))\n",
        "    \n",
        "    \n",
        "    # convert to np.float32\n",
        "    Z = np.float32(Z)\n",
        "    \n",
        "    # define criteria, number of clusters(K) and apply kmeans()\n",
        "    criteria = (cv.TERM_CRITERIA_EPS + cv.TERM_CRITERIA_MAX_ITER, 10, 1.0)\n",
        "    ret,label,center = cv.kmeans(Z, K, None, criteria, 10, cv.KMEANS_RANDOM_CENTERS)\n",
        "    \n",
        "    # Now convert back into uint8, and make original image\n",
        "    center = np.uint8(center)\n",
        "    res = center[label.flatten()]\n",
        "    Clustered_Image = res.reshape((Image.shape))\n",
        "    \n",
        "    return Clustered_Image"
      ],
      "execution_count": 7,
      "outputs": []
    },
    {
      "cell_type": "code",
      "metadata": {
        "colab": {
          "base_uri": "https://localhost:8080/"
        },
        "id": "qW_s0TrbrVIY",
        "outputId": "fac03de8-90e1-4986-b93c-ab471c0ef900"
      },
      "source": [
        "def main():\n",
        "    Input_Image = cv.imread(\"ATbraERkc.jpg\")\n",
        "    Clusters = 8\n",
        "    Clustered_Image = K_Means(Input_Image, Clusters)\n",
        "    \n",
        "    cv.imwrite(\"ATbraERkc.jpg\", Clustered_Image)\n",
        "    input(\"Please Enter to Continue...\")\n",
        "\n",
        "if __name__ == '__main__':\n",
        "\tmain()"
      ],
      "execution_count": 9,
      "outputs": [
        {
          "output_type": "stream",
          "text": [
            "Please Enter to Continue...\n"
          ],
          "name": "stdout"
        }
      ]
    }
  ]
}